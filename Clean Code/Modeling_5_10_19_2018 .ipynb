{
 "cells": [
  {
   "cell_type": "markdown",
   "metadata": {},
   "source": [
    "# Part 2 Running models"
   ]
  },
  {
   "cell_type": "markdown",
   "metadata": {},
   "source": [
    "# Capstone Index\n",
    "\n",
    "    \n",
    "+    [Part 1.1 Data Munging Tesla Stock Data](./Stock_dayofweek_10_14_2018.ipynb)\n",
    "+    [Part 1.2 Data Munging Elon Musk Twitter Data](./Tweets_dayofweek_10_14_2018.ipynb)\n",
    "+    [Part 1.3 Scrapping the SEC](./Web_Scraper_2_10_16_2018_clean.ipynb)\n",
    "+    [Part 1.4 Merging all the data into one csv file](./Merging_the_data_3_10_18_2018_clean.ipynb)\n",
    "+    [Part 2 Running models](./Modeling_5_10_19_2018 .ipynb)\n",
    "+    [Part 2.1 Running more models](./Running_more_models_10_19_2018.ipynb)"
   ]
  },
  {
   "cell_type": "markdown",
   "metadata": {},
   "source": [
    "## Imports"
   ]
  },
  {
   "cell_type": "code",
   "execution_count": 1,
   "metadata": {},
   "outputs": [],
   "source": [
    "import pandas as pd \n",
    "import numpy as np\n",
    "import matplotlib.pyplot as plt\n",
    "import statsmodels.api as sm\n",
    "from sklearn.model_selection import train_test_split\n",
    "from sklearn import datasets\n",
    "from sklearn import metrics\n",
    "\n",
    "%matplotlib inline"
   ]
  },
  {
   "cell_type": "markdown",
   "metadata": {},
   "source": [
    "## Importing the dataframe"
   ]
  },
  {
   "cell_type": "code",
   "execution_count": 2,
   "metadata": {},
   "outputs": [],
   "source": [
    "df = pd.read_csv('../Elon_Musk_Tweet_Requence_Compaired_To_Tesla_Stock_First_Run_Through/Merging_the_data_3_10_18_2018_clean')"
   ]
  },
  {
   "cell_type": "markdown",
   "metadata": {},
   "source": [
    "## Fixing what appears to be a data entry bug"
   ]
  },
  {
   "cell_type": "code",
   "execution_count": 3,
   "metadata": {
    "scrolled": true
   },
   "outputs": [
    {
     "data": {
      "text/html": [
       "<div>\n",
       "<style scoped>\n",
       "    .dataframe tbody tr th:only-of-type {\n",
       "        vertical-align: middle;\n",
       "    }\n",
       "\n",
       "    .dataframe tbody tr th {\n",
       "        vertical-align: top;\n",
       "    }\n",
       "\n",
       "    .dataframe thead th {\n",
       "        text-align: right;\n",
       "    }\n",
       "</style>\n",
       "<table border=\"1\" class=\"dataframe\">\n",
       "  <thead>\n",
       "    <tr style=\"text-align: right;\">\n",
       "      <th></th>\n",
       "      <th>stock_date</th>\n",
       "      <th>stock_close</th>\n",
       "      <th>stock_volume</th>\n",
       "      <th>stock_open</th>\n",
       "      <th>stock_high</th>\n",
       "      <th>stock_low</th>\n",
       "      <th>stock_day_of_week</th>\n",
       "      <th>year</th>\n",
       "      <th>tweet_id</th>\n",
       "      <th>tweet_created_at</th>\n",
       "      <th>tweet_text</th>\n",
       "      <th>tweet_day_of_week</th>\n",
       "      <th>tweet_times_a_day</th>\n",
       "      <th>filings</th>\n",
       "      <th>year.1</th>\n",
       "    </tr>\n",
       "  </thead>\n",
       "  <tbody>\n",
       "    <tr>\n",
       "      <th>2084</th>\n",
       "      <td>2010-06-29</td>\n",
       "      <td>23.89</td>\n",
       "      <td>18751150.0</td>\n",
       "      <td>19.0</td>\n",
       "      <td>25.0</td>\n",
       "      <td>17.54</td>\n",
       "      <td>23.0</td>\n",
       "      <td>2010/06/29</td>\n",
       "      <td>0.0</td>\n",
       "      <td>0</td>\n",
       "      <td>0</td>\n",
       "      <td>0.0</td>\n",
       "      <td>0.0</td>\n",
       "      <td>none</td>\n",
       "      <td>none</td>\n",
       "    </tr>\n",
       "  </tbody>\n",
       "</table>\n",
       "</div>"
      ],
      "text/plain": [
       "      stock_date  stock_close  stock_volume  stock_open  stock_high  \\\n",
       "2084  2010-06-29        23.89    18751150.0        19.0        25.0   \n",
       "\n",
       "      stock_low  stock_day_of_week        year  tweet_id tweet_created_at  \\\n",
       "2084      17.54               23.0  2010/06/29       0.0                0   \n",
       "\n",
       "     tweet_text  tweet_day_of_week  tweet_times_a_day filings year.1  \n",
       "2084          0                0.0                0.0    none   none  "
      ]
     },
     "execution_count": 3,
     "metadata": {},
     "output_type": "execute_result"
    }
   ],
   "source": [
    "df[df['stock_day_of_week'] ==23]"
   ]
  },
  {
   "cell_type": "code",
   "execution_count": 4,
   "metadata": {},
   "outputs": [],
   "source": [
    "df.loc[2084,'stock_day_of_week'] = 2"
   ]
  },
  {
   "cell_type": "code",
   "execution_count": 5,
   "metadata": {
    "scrolled": true
   },
   "outputs": [
    {
     "data": {
      "text/plain": [
       "2.0    428\n",
       "3.0    428\n",
       "4.0    421\n",
       "5.0    419\n",
       "1.0    389\n",
       "Name: stock_day_of_week, dtype: int64"
      ]
     },
     "execution_count": 5,
     "metadata": {},
     "output_type": "execute_result"
    }
   ],
   "source": [
    "df['stock_day_of_week'].value_counts()"
   ]
  },
  {
   "cell_type": "markdown",
   "metadata": {},
   "source": [
    "## Droping extra date columns"
   ]
  },
  {
   "cell_type": "code",
   "execution_count": 6,
   "metadata": {},
   "outputs": [],
   "source": [
    "df.drop(columns = 'year.1', inplace = True)"
   ]
  },
  {
   "cell_type": "markdown",
   "metadata": {},
   "source": [
    "## Creating stock Price delta column"
   ]
  },
  {
   "cell_type": "code",
   "execution_count": 7,
   "metadata": {},
   "outputs": [
    {
     "data": {
      "text/html": [
       "<div>\n",
       "<style scoped>\n",
       "    .dataframe tbody tr th:only-of-type {\n",
       "        vertical-align: middle;\n",
       "    }\n",
       "\n",
       "    .dataframe tbody tr th {\n",
       "        vertical-align: top;\n",
       "    }\n",
       "\n",
       "    .dataframe thead th {\n",
       "        text-align: right;\n",
       "    }\n",
       "</style>\n",
       "<table border=\"1\" class=\"dataframe\">\n",
       "  <thead>\n",
       "    <tr style=\"text-align: right;\">\n",
       "      <th></th>\n",
       "      <th>stock_date</th>\n",
       "      <th>stock_close</th>\n",
       "      <th>stock_volume</th>\n",
       "      <th>stock_open</th>\n",
       "      <th>stock_high</th>\n",
       "      <th>stock_low</th>\n",
       "      <th>stock_day_of_week</th>\n",
       "      <th>year</th>\n",
       "      <th>tweet_id</th>\n",
       "      <th>tweet_created_at</th>\n",
       "      <th>tweet_text</th>\n",
       "      <th>tweet_day_of_week</th>\n",
       "      <th>tweet_times_a_day</th>\n",
       "      <th>filings</th>\n",
       "    </tr>\n",
       "  </thead>\n",
       "  <tbody>\n",
       "    <tr>\n",
       "      <th>0</th>\n",
       "      <td>2018-10-08</td>\n",
       "      <td>250.56</td>\n",
       "      <td>13371180.0</td>\n",
       "      <td>264.52</td>\n",
       "      <td>267.7599</td>\n",
       "      <td>249.00</td>\n",
       "      <td>1.0</td>\n",
       "      <td>2018/10/08</td>\n",
       "      <td>0.0</td>\n",
       "      <td>0</td>\n",
       "      <td>0</td>\n",
       "      <td>0.0</td>\n",
       "      <td>0.0</td>\n",
       "      <td>8-K</td>\n",
       "    </tr>\n",
       "    <tr>\n",
       "      <th>1</th>\n",
       "      <td>2018-10-05</td>\n",
       "      <td>261.95</td>\n",
       "      <td>17900710.0</td>\n",
       "      <td>274.65</td>\n",
       "      <td>274.8800</td>\n",
       "      <td>260.00</td>\n",
       "      <td>5.0</td>\n",
       "      <td>2018/10/05</td>\n",
       "      <td>0.0</td>\n",
       "      <td>0</td>\n",
       "      <td>0</td>\n",
       "      <td>0.0</td>\n",
       "      <td>0.0</td>\n",
       "      <td>SC 13G/A</td>\n",
       "    </tr>\n",
       "    <tr>\n",
       "      <th>2</th>\n",
       "      <td>2018-10-04</td>\n",
       "      <td>281.83</td>\n",
       "      <td>9638885.0</td>\n",
       "      <td>293.95</td>\n",
       "      <td>294.0000</td>\n",
       "      <td>277.67</td>\n",
       "      <td>4.0</td>\n",
       "      <td>2018/10/04</td>\n",
       "      <td>0.0</td>\n",
       "      <td>0</td>\n",
       "      <td>0</td>\n",
       "      <td>0.0</td>\n",
       "      <td>0.0</td>\n",
       "      <td>8-K</td>\n",
       "    </tr>\n",
       "    <tr>\n",
       "      <th>3</th>\n",
       "      <td>2018-10-03</td>\n",
       "      <td>294.80</td>\n",
       "      <td>7982272.0</td>\n",
       "      <td>303.33</td>\n",
       "      <td>304.6000</td>\n",
       "      <td>291.57</td>\n",
       "      <td>3.0</td>\n",
       "      <td>2018/10/03</td>\n",
       "      <td>0.0</td>\n",
       "      <td>0</td>\n",
       "      <td>0</td>\n",
       "      <td>0.0</td>\n",
       "      <td>0.0</td>\n",
       "      <td>8-K</td>\n",
       "    </tr>\n",
       "    <tr>\n",
       "      <th>4</th>\n",
       "      <td>2018-10-02</td>\n",
       "      <td>301.02</td>\n",
       "      <td>11699690.0</td>\n",
       "      <td>313.95</td>\n",
       "      <td>316.8400</td>\n",
       "      <td>299.15</td>\n",
       "      <td>2.0</td>\n",
       "      <td>2018/10/02</td>\n",
       "      <td>0.0</td>\n",
       "      <td>0</td>\n",
       "      <td>0</td>\n",
       "      <td>0.0</td>\n",
       "      <td>0.0</td>\n",
       "      <td>8-K</td>\n",
       "    </tr>\n",
       "  </tbody>\n",
       "</table>\n",
       "</div>"
      ],
      "text/plain": [
       "   stock_date  stock_close  stock_volume  stock_open  stock_high  stock_low  \\\n",
       "0  2018-10-08       250.56    13371180.0      264.52    267.7599     249.00   \n",
       "1  2018-10-05       261.95    17900710.0      274.65    274.8800     260.00   \n",
       "2  2018-10-04       281.83     9638885.0      293.95    294.0000     277.67   \n",
       "3  2018-10-03       294.80     7982272.0      303.33    304.6000     291.57   \n",
       "4  2018-10-02       301.02    11699690.0      313.95    316.8400     299.15   \n",
       "\n",
       "   stock_day_of_week        year  tweet_id tweet_created_at tweet_text  \\\n",
       "0                1.0  2018/10/08       0.0                0          0   \n",
       "1                5.0  2018/10/05       0.0                0          0   \n",
       "2                4.0  2018/10/04       0.0                0          0   \n",
       "3                3.0  2018/10/03       0.0                0          0   \n",
       "4                2.0  2018/10/02       0.0                0          0   \n",
       "\n",
       "   tweet_day_of_week  tweet_times_a_day   filings  \n",
       "0                0.0                0.0       8-K  \n",
       "1                0.0                0.0  SC 13G/A  \n",
       "2                0.0                0.0       8-K  \n",
       "3                0.0                0.0       8-K  \n",
       "4                0.0                0.0       8-K  "
      ]
     },
     "execution_count": 7,
     "metadata": {},
     "output_type": "execute_result"
    }
   ],
   "source": [
    "df.head()"
   ]
  },
  {
   "cell_type": "code",
   "execution_count": 8,
   "metadata": {
    "scrolled": true
   },
   "outputs": [],
   "source": [
    "# other way of doing it\n",
    "#df['stock_price_delta'] = df['stock_close']\n",
    "#for i in range(0, len(df['stock_open']), 1):\n",
    "#    df['stock_price_delta'] = df['stock_open'] - df['stock_close']"
   ]
  },
  {
   "cell_type": "code",
   "execution_count": 9,
   "metadata": {
    "scrolled": true
   },
   "outputs": [],
   "source": [
    "df['stock_price_delta'] = df['stock_open']-df['stock_close']"
   ]
  },
  {
   "cell_type": "markdown",
   "metadata": {},
   "source": [
    "## Creating a new dataframe with SEC filings shift back a day\n",
    "#### as most SEC filings where put in after trading hours closed for the day"
   ]
  },
  {
   "cell_type": "code",
   "execution_count": 10,
   "metadata": {},
   "outputs": [],
   "source": [
    "df2 = df.copy()"
   ]
  },
  {
   "cell_type": "code",
   "execution_count": 11,
   "metadata": {},
   "outputs": [],
   "source": [
    "def conv(n):\n",
    "    if n <= 4:\n",
    "        return n + 1\n",
    "    else:\n",
    "        return 1"
   ]
  },
  {
   "cell_type": "code",
   "execution_count": 12,
   "metadata": {},
   "outputs": [],
   "source": [
    "df2['stock_day_of_week'] = df2['stock_day_of_week'].map(conv)"
   ]
  },
  {
   "cell_type": "markdown",
   "metadata": {},
   "source": [
    "## Creating dummies for\n",
    "### stock_day_of_week and filings"
   ]
  },
  {
   "cell_type": "code",
   "execution_count": 13,
   "metadata": {
    "scrolled": true
   },
   "outputs": [],
   "source": [
    "#df['filings'].unique()"
   ]
  },
  {
   "cell_type": "code",
   "execution_count": 14,
   "metadata": {},
   "outputs": [],
   "source": [
    "#df.filings.value_counts()"
   ]
  },
  {
   "cell_type": "code",
   "execution_count": 15,
   "metadata": {
    "scrolled": true
   },
   "outputs": [],
   "source": [
    "# Creating dummies for the day of the week ['stock_day_of_week'] and dropping the first dummy column, which is Monday\n",
    "df_withdummies = pd.get_dummies(df, prefix=['weekday_d'], columns=['stock_day_of_week'],drop_first = True)\n",
    "# SEC date pushed back one day\n",
    "df2_withdummies = pd.get_dummies(df2, prefix=['weekday_d'], columns=['stock_day_of_week'],drop_first = True)"
   ]
  },
  {
   "cell_type": "code",
   "execution_count": 16,
   "metadata": {},
   "outputs": [],
   "source": [
    "# Creating dummies for filings ['filings'] and dropping the first dummy column\n",
    "df_withdummies = pd.get_dummies(df_withdummies, prefix=['filings_d'], columns=['filings'],drop_first = True)\n",
    "# SEC date pushed back one day\n",
    "df2_withdummies = pd.get_dummies(df2_withdummies, prefix=['filings_d'], columns=['filings'],drop_first = True)"
   ]
  },
  {
   "cell_type": "code",
   "execution_count": 17,
   "metadata": {},
   "outputs": [],
   "source": [
    "# Making X just the values I want, which are\n",
    "# the number of Elon Musk tweets a day ['tweet_times_a_day']\n",
    "# which day of the week it is\n",
    "# if there was an SEC filing that day and if so what type\n",
    "X = df_withdummies.iloc[:,11:]\n",
    "# SEC date pushed back one day\n",
    "X2 = df2_withdummies.iloc[:,11:]\n",
    "# Just ['stock_price_delta']\n",
    "X3 = df2_withdummies.iloc[:,12]"
   ]
  },
  {
   "cell_type": "code",
   "execution_count": 18,
   "metadata": {
    "scrolled": true
   },
   "outputs": [
    {
     "data": {
      "text/html": [
       "<div>\n",
       "<style scoped>\n",
       "    .dataframe tbody tr th:only-of-type {\n",
       "        vertical-align: middle;\n",
       "    }\n",
       "\n",
       "    .dataframe tbody tr th {\n",
       "        vertical-align: top;\n",
       "    }\n",
       "\n",
       "    .dataframe thead th {\n",
       "        text-align: right;\n",
       "    }\n",
       "</style>\n",
       "<table border=\"1\" class=\"dataframe\">\n",
       "  <thead>\n",
       "    <tr style=\"text-align: right;\">\n",
       "      <th></th>\n",
       "      <th>tweet_times_a_day</th>\n",
       "      <th>stock_price_delta</th>\n",
       "      <th>weekday_d_2.0</th>\n",
       "      <th>weekday_d_3.0</th>\n",
       "      <th>weekday_d_4.0</th>\n",
       "      <th>weekday_d_5.0</th>\n",
       "      <th>filings_d_10-K/A</th>\n",
       "      <th>filings_d_10-Q</th>\n",
       "      <th>filings_d_424B5</th>\n",
       "      <th>filings_d_425</th>\n",
       "      <th>...</th>\n",
       "      <th>filings_d_PX14A6G</th>\n",
       "      <th>filings_d_S-3ASR</th>\n",
       "      <th>filings_d_S-4</th>\n",
       "      <th>filings_d_S-4/A</th>\n",
       "      <th>filings_d_S-8</th>\n",
       "      <th>filings_d_SC 13G</th>\n",
       "      <th>filings_d_SC 13G/A</th>\n",
       "      <th>filings_d_SD</th>\n",
       "      <th>filings_d_UPLOAD</th>\n",
       "      <th>filings_d_none</th>\n",
       "    </tr>\n",
       "  </thead>\n",
       "  <tbody>\n",
       "    <tr>\n",
       "      <th>0</th>\n",
       "      <td>0.0</td>\n",
       "      <td>13.96</td>\n",
       "      <td>0</td>\n",
       "      <td>0</td>\n",
       "      <td>0</td>\n",
       "      <td>0</td>\n",
       "      <td>0</td>\n",
       "      <td>0</td>\n",
       "      <td>0</td>\n",
       "      <td>0</td>\n",
       "      <td>...</td>\n",
       "      <td>0</td>\n",
       "      <td>0</td>\n",
       "      <td>0</td>\n",
       "      <td>0</td>\n",
       "      <td>0</td>\n",
       "      <td>0</td>\n",
       "      <td>0</td>\n",
       "      <td>0</td>\n",
       "      <td>0</td>\n",
       "      <td>0</td>\n",
       "    </tr>\n",
       "    <tr>\n",
       "      <th>1</th>\n",
       "      <td>0.0</td>\n",
       "      <td>12.70</td>\n",
       "      <td>0</td>\n",
       "      <td>0</td>\n",
       "      <td>0</td>\n",
       "      <td>1</td>\n",
       "      <td>0</td>\n",
       "      <td>0</td>\n",
       "      <td>0</td>\n",
       "      <td>0</td>\n",
       "      <td>...</td>\n",
       "      <td>0</td>\n",
       "      <td>0</td>\n",
       "      <td>0</td>\n",
       "      <td>0</td>\n",
       "      <td>0</td>\n",
       "      <td>0</td>\n",
       "      <td>1</td>\n",
       "      <td>0</td>\n",
       "      <td>0</td>\n",
       "      <td>0</td>\n",
       "    </tr>\n",
       "    <tr>\n",
       "      <th>2</th>\n",
       "      <td>0.0</td>\n",
       "      <td>12.12</td>\n",
       "      <td>0</td>\n",
       "      <td>0</td>\n",
       "      <td>1</td>\n",
       "      <td>0</td>\n",
       "      <td>0</td>\n",
       "      <td>0</td>\n",
       "      <td>0</td>\n",
       "      <td>0</td>\n",
       "      <td>...</td>\n",
       "      <td>0</td>\n",
       "      <td>0</td>\n",
       "      <td>0</td>\n",
       "      <td>0</td>\n",
       "      <td>0</td>\n",
       "      <td>0</td>\n",
       "      <td>0</td>\n",
       "      <td>0</td>\n",
       "      <td>0</td>\n",
       "      <td>0</td>\n",
       "    </tr>\n",
       "    <tr>\n",
       "      <th>3</th>\n",
       "      <td>0.0</td>\n",
       "      <td>8.53</td>\n",
       "      <td>0</td>\n",
       "      <td>1</td>\n",
       "      <td>0</td>\n",
       "      <td>0</td>\n",
       "      <td>0</td>\n",
       "      <td>0</td>\n",
       "      <td>0</td>\n",
       "      <td>0</td>\n",
       "      <td>...</td>\n",
       "      <td>0</td>\n",
       "      <td>0</td>\n",
       "      <td>0</td>\n",
       "      <td>0</td>\n",
       "      <td>0</td>\n",
       "      <td>0</td>\n",
       "      <td>0</td>\n",
       "      <td>0</td>\n",
       "      <td>0</td>\n",
       "      <td>0</td>\n",
       "    </tr>\n",
       "    <tr>\n",
       "      <th>4</th>\n",
       "      <td>0.0</td>\n",
       "      <td>12.93</td>\n",
       "      <td>1</td>\n",
       "      <td>0</td>\n",
       "      <td>0</td>\n",
       "      <td>0</td>\n",
       "      <td>0</td>\n",
       "      <td>0</td>\n",
       "      <td>0</td>\n",
       "      <td>0</td>\n",
       "      <td>...</td>\n",
       "      <td>0</td>\n",
       "      <td>0</td>\n",
       "      <td>0</td>\n",
       "      <td>0</td>\n",
       "      <td>0</td>\n",
       "      <td>0</td>\n",
       "      <td>0</td>\n",
       "      <td>0</td>\n",
       "      <td>0</td>\n",
       "      <td>0</td>\n",
       "    </tr>\n",
       "  </tbody>\n",
       "</table>\n",
       "<p>5 rows × 32 columns</p>\n",
       "</div>"
      ],
      "text/plain": [
       "   tweet_times_a_day  stock_price_delta  weekday_d_2.0  weekday_d_3.0  \\\n",
       "0                0.0              13.96              0              0   \n",
       "1                0.0              12.70              0              0   \n",
       "2                0.0              12.12              0              0   \n",
       "3                0.0               8.53              0              1   \n",
       "4                0.0              12.93              1              0   \n",
       "\n",
       "   weekday_d_4.0  weekday_d_5.0  filings_d_10-K/A  filings_d_10-Q  \\\n",
       "0              0              0                 0               0   \n",
       "1              0              1                 0               0   \n",
       "2              1              0                 0               0   \n",
       "3              0              0                 0               0   \n",
       "4              0              0                 0               0   \n",
       "\n",
       "   filings_d_424B5  filings_d_425       ...        filings_d_PX14A6G  \\\n",
       "0                0              0       ...                        0   \n",
       "1                0              0       ...                        0   \n",
       "2                0              0       ...                        0   \n",
       "3                0              0       ...                        0   \n",
       "4                0              0       ...                        0   \n",
       "\n",
       "   filings_d_S-3ASR  filings_d_S-4  filings_d_S-4/A  filings_d_S-8  \\\n",
       "0                 0              0                0              0   \n",
       "1                 0              0                0              0   \n",
       "2                 0              0                0              0   \n",
       "3                 0              0                0              0   \n",
       "4                 0              0                0              0   \n",
       "\n",
       "   filings_d_SC 13G  filings_d_SC 13G/A  filings_d_SD  filings_d_UPLOAD  \\\n",
       "0                 0                   0             0                 0   \n",
       "1                 0                   1             0                 0   \n",
       "2                 0                   0             0                 0   \n",
       "3                 0                   0             0                 0   \n",
       "4                 0                   0             0                 0   \n",
       "\n",
       "   filings_d_none  \n",
       "0               0  \n",
       "1               0  \n",
       "2               0  \n",
       "3               0  \n",
       "4               0  \n",
       "\n",
       "[5 rows x 32 columns]"
      ]
     },
     "execution_count": 18,
     "metadata": {},
     "output_type": "execute_result"
    }
   ],
   "source": [
    "df_withdummies.iloc[:,11:].head()"
   ]
  },
  {
   "cell_type": "markdown",
   "metadata": {},
   "source": [
    "## Shifting back Price Delta by a day\n"
   ]
  },
  {
   "cell_type": "code",
   "execution_count": 19,
   "metadata": {},
   "outputs": [],
   "source": [
    "X4 = X3.copy()"
   ]
  },
  {
   "cell_type": "code",
   "execution_count": 20,
   "metadata": {},
   "outputs": [],
   "source": [
    "# shift the price delta back a day\n",
    "i = 0\n",
    "while i < 2084:\n",
    "    X4[i] = X4[(i+1)]\n",
    "    i += 1"
   ]
  },
  {
   "cell_type": "code",
   "execution_count": 21,
   "metadata": {},
   "outputs": [],
   "source": [
    "# setting my last value to the mean\n",
    "X4[2084] = X4.mean()"
   ]
  },
  {
   "cell_type": "code",
   "execution_count": 22,
   "metadata": {},
   "outputs": [],
   "source": [
    "#for i in range(len(X4), 0, -1):\n",
    "#    print('adsf')"
   ]
  },
  {
   "cell_type": "code",
   "execution_count": 23,
   "metadata": {},
   "outputs": [
    {
     "data": {
      "text/plain": [
       "RangeIndex(start=0, stop=2085, step=1)"
      ]
     },
     "execution_count": 23,
     "metadata": {},
     "output_type": "execute_result"
    }
   ],
   "source": [
    "X4.keys()"
   ]
  },
  {
   "cell_type": "code",
   "execution_count": 24,
   "metadata": {},
   "outputs": [],
   "source": [
    "X3 = pd.DataFrame({'stock_price_delta': X3})\n",
    "X4 = pd.DataFrame({'stock_price_delta': X4})"
   ]
  },
  {
   "cell_type": "markdown",
   "metadata": {},
   "source": [
    "## Making a dataframe with all my values with SEC filings and stock delta date shifted\n",
    "#### SEC filings were shift to the day after as most filling are filed after the trading hours\n",
    "#### and the stock delta between open and close was moved back a day so it would act a predictor"
   ]
  },
  {
   "cell_type": "code",
   "execution_count": 25,
   "metadata": {},
   "outputs": [],
   "source": [
    "X5 = X2.copy()"
   ]
  },
  {
   "cell_type": "code",
   "execution_count": 26,
   "metadata": {},
   "outputs": [],
   "source": [
    "X5['stock_price_delta'] = X4['stock_price_delta']"
   ]
  },
  {
   "cell_type": "markdown",
   "metadata": {},
   "source": [
    "## Saving for use modeling in another file"
   ]
  },
  {
   "cell_type": "code",
   "execution_count": 27,
   "metadata": {},
   "outputs": [],
   "source": [
    "pd.DataFrame(X).to_csv('features_df_dummies_10_19_2018', index = False)"
   ]
  },
  {
   "cell_type": "code",
   "execution_count": 28,
   "metadata": {},
   "outputs": [],
   "source": [
    "# SEC date pushed back one day\n",
    "pd.DataFrame(X2).to_csv('features_df2_dummies_10_19_2018', index = False)"
   ]
  },
  {
   "cell_type": "code",
   "execution_count": 29,
   "metadata": {},
   "outputs": [],
   "source": [
    "# All features with dummies with SEC filings and stock price delta date shifted\n",
    "pd.DataFrame(X5).to_csv('features_X5_10_19_2018', index = False)"
   ]
  },
  {
   "cell_type": "code",
   "execution_count": 30,
   "metadata": {},
   "outputs": [],
   "source": [
    "pd.DataFrame(df_withdummies['stock_volume']).to_csv('target_df_10_19_2018', index = False)"
   ]
  },
  {
   "cell_type": "markdown",
   "metadata": {},
   "source": [
    "## Train test split"
   ]
  },
  {
   "cell_type": "code",
   "execution_count": 31,
   "metadata": {},
   "outputs": [],
   "source": [
    "X = X # The features I want\n",
    "X2 = X2 # The features with date shifted SEC filings\n",
    "X3 = X3 # only price delta as feature\n",
    "X4 = X4 # only price delta shift back a day as a feature\n",
    "y = df_withdummies['stock_volume'] # My target"
   ]
  },
  {
   "cell_type": "code",
   "execution_count": 32,
   "metadata": {},
   "outputs": [],
   "source": [
    "X_train, X_test, y_train, y_test = train_test_split(X, y, test_size=0.3, random_state=42)"
   ]
  },
  {
   "cell_type": "code",
   "execution_count": 33,
   "metadata": {},
   "outputs": [],
   "source": [
    "X2_train, X2_test, y_train, y_test = train_test_split(X2, y, test_size=0.3, random_state=42)"
   ]
  },
  {
   "cell_type": "code",
   "execution_count": 34,
   "metadata": {},
   "outputs": [],
   "source": [
    "X3_train, X3_test, y3_train, y3_test = train_test_split(X3, y, test_size=0.3, random_state=42)"
   ]
  },
  {
   "cell_type": "code",
   "execution_count": 35,
   "metadata": {},
   "outputs": [],
   "source": [
    "X4_train, X4_test, y_train, y_test = train_test_split(X4, y, test_size=0.3, random_state=42)"
   ]
  },
  {
   "cell_type": "code",
   "execution_count": 36,
   "metadata": {},
   "outputs": [],
   "source": [
    "X5_train, X5_test, y_train, y_test = train_test_split(X5, y, test_size=0.3, random_state=42)"
   ]
  },
  {
   "cell_type": "markdown",
   "metadata": {},
   "source": [
    "## Adding a standarization on my features"
   ]
  },
  {
   "cell_type": "code",
   "execution_count": 37,
   "metadata": {},
   "outputs": [],
   "source": [
    "from sklearn import preprocessing"
   ]
  },
  {
   "cell_type": "code",
   "execution_count": 38,
   "metadata": {},
   "outputs": [],
   "source": [
    "Xs = preprocessing.scale(X)"
   ]
  },
  {
   "cell_type": "code",
   "execution_count": 39,
   "metadata": {},
   "outputs": [],
   "source": [
    "Xs_train, Xs_test, y_train, y_test = train_test_split(Xs, y, test_size=0.3, random_state=42)"
   ]
  },
  {
   "cell_type": "markdown",
   "metadata": {},
   "source": [
    "## Modeling Linear Regression"
   ]
  },
  {
   "cell_type": "code",
   "execution_count": 40,
   "metadata": {},
   "outputs": [],
   "source": [
    "from sklearn import linear_model\n",
    "from sklearn.ensemble import RandomForestRegressor"
   ]
  },
  {
   "cell_type": "code",
   "execution_count": 41,
   "metadata": {},
   "outputs": [],
   "source": [
    "lm = linear_model.LinearRegression()"
   ]
  },
  {
   "cell_type": "code",
   "execution_count": 42,
   "metadata": {},
   "outputs": [
    {
     "data": {
      "text/plain": [
       "-13.332995617986981"
      ]
     },
     "execution_count": 42,
     "metadata": {},
     "output_type": "execute_result"
    }
   ],
   "source": [
    "# All the features with dummies\n",
    "model = lm.fit(X_train, y_train)\n",
    "predictions = lm.predict(X_test)\n",
    "metrics.r2_score(predictions, y_test) # 0 = 100%"
   ]
  },
  {
   "cell_type": "code",
   "execution_count": 43,
   "metadata": {},
   "outputs": [
    {
     "data": {
      "text/plain": [
       "-0.0032023218732615266"
      ]
     },
     "execution_count": 43,
     "metadata": {},
     "output_type": "execute_result"
    }
   ],
   "source": [
    "# modeling with standardized features\n",
    "model = lm.fit(Xs_train, y_train)\n",
    "predictions = lm.predict(Xs_test)\n",
    "metrics.r2_score(predictions, y_test) # 0 = 100%"
   ]
  },
  {
   "cell_type": "code",
   "execution_count": 44,
   "metadata": {},
   "outputs": [
    {
     "data": {
      "text/plain": [
       "-13.33299561798704"
      ]
     },
     "execution_count": 44,
     "metadata": {},
     "output_type": "execute_result"
    }
   ],
   "source": [
    "# All features with dummies with date shifted SEC filings\n",
    "model = lm.fit(X2_train, y_train)\n",
    "predictions = lm.predict(X2_test)\n",
    "metrics.r2_score(predictions, y_test) # 0 = 100%"
   ]
  },
  {
   "cell_type": "code",
   "execution_count": 45,
   "metadata": {},
   "outputs": [
    {
     "data": {
      "text/plain": [
       "-717.726102246918"
      ]
     },
     "execution_count": 45,
     "metadata": {},
     "output_type": "execute_result"
    }
   ],
   "source": [
    "# Only the price delta as a feature\n",
    "model = lm.fit(X3_train, y_train)\n",
    "predictions = lm.predict(X3_test)\n",
    "metrics.r2_score(predictions, y_test) # 0 = 100%"
   ]
  },
  {
   "cell_type": "code",
   "execution_count": 46,
   "metadata": {},
   "outputs": [
    {
     "data": {
      "text/plain": [
       "-9983.030125977326"
      ]
     },
     "execution_count": 46,
     "metadata": {},
     "output_type": "execute_result"
    }
   ],
   "source": [
    "# Only the price delta shift back a day as a feature\n",
    "model = lm.fit(X4_train, y_train)\n",
    "predictions = lm.predict(X4_test)\n",
    "metrics.r2_score(predictions, y_test) # 0 = 100%"
   ]
  },
  {
   "cell_type": "code",
   "execution_count": 47,
   "metadata": {},
   "outputs": [
    {
     "data": {
      "text/plain": [
       "-13.536325166646582"
      ]
     },
     "execution_count": 47,
     "metadata": {},
     "output_type": "execute_result"
    }
   ],
   "source": [
    "# All features with dummies with SEC filings and stock price delta date shifted\n",
    "model = lm.fit(X5_train, y_train)\n",
    "predictions = lm.predict(X5_test)\n",
    "metrics.r2_score(predictions, y_test) # 0 = 100%"
   ]
  },
  {
   "cell_type": "code",
   "execution_count": 48,
   "metadata": {
    "scrolled": true
   },
   "outputs": [
    {
     "data": {
      "text/plain": [
       "<matplotlib.collections.PathCollection at 0x1c8d4c3ed68>"
      ]
     },
     "execution_count": 48,
     "metadata": {},
     "output_type": "execute_result"
    },
    {
     "data": {
      "image/png": "[encoded data removed]",
      "text/plain": [
       "<Figure size 1440x360 with 1 Axes>"
      ]
     },
     "metadata": {},
     "output_type": "display_data"
    }
   ],
   "source": [
    "plt.figure(figsize=(20,5))\n",
    "plt.scatter(predictions, y_test)"
   ]
  },
  {
   "cell_type": "code",
   "execution_count": 49,
   "metadata": {},
   "outputs": [
    {
     "data": {
      "text/plain": [
       "6678495.086706085"
      ]
     },
     "execution_count": 49,
     "metadata": {},
     "output_type": "execute_result"
    }
   ],
   "source": [
    "lm.intercept_ # intercept = Monday"
   ]
  },
  {
   "cell_type": "code",
   "execution_count": 50,
   "metadata": {
    "scrolled": false
   },
   "outputs": [
    {
     "data": {
      "text/html": [
       "<div>\n",
       "<style scoped>\n",
       "    .dataframe tbody tr th:only-of-type {\n",
       "        vertical-align: middle;\n",
       "    }\n",
       "\n",
       "    .dataframe tbody tr th {\n",
       "        vertical-align: top;\n",
       "    }\n",
       "\n",
       "    .dataframe thead th {\n",
       "        text-align: right;\n",
       "    }\n",
       "</style>\n",
       "<table border=\"1\" class=\"dataframe\">\n",
       "  <thead>\n",
       "    <tr style=\"text-align: right;\">\n",
       "      <th></th>\n",
       "      <th>0</th>\n",
       "    </tr>\n",
       "  </thead>\n",
       "  <tbody>\n",
       "    <tr>\n",
       "      <th>tweet_times_a_day</th>\n",
       "      <td>1.034710e+05</td>\n",
       "    </tr>\n",
       "    <tr>\n",
       "      <th>stock_price_delta</th>\n",
       "      <td>9.911302e+03</td>\n",
       "    </tr>\n",
       "    <tr>\n",
       "      <th>weekday_d_2.0</th>\n",
       "      <td>5.318908e+05</td>\n",
       "    </tr>\n",
       "    <tr>\n",
       "      <th>weekday_d_3.0</th>\n",
       "      <td>3.441943e+05</td>\n",
       "    </tr>\n",
       "    <tr>\n",
       "      <th>weekday_d_4.0</th>\n",
       "      <td>4.159080e+05</td>\n",
       "    </tr>\n",
       "    <tr>\n",
       "      <th>weekday_d_5.0</th>\n",
       "      <td>2.196705e+05</td>\n",
       "    </tr>\n",
       "    <tr>\n",
       "      <th>filings_d_10-K/A</th>\n",
       "      <td>-1.779671e+06</td>\n",
       "    </tr>\n",
       "    <tr>\n",
       "      <th>filings_d_10-Q</th>\n",
       "      <td>1.436330e+06</td>\n",
       "    </tr>\n",
       "    <tr>\n",
       "      <th>filings_d_424B5</th>\n",
       "      <td>-4.708838e+05</td>\n",
       "    </tr>\n",
       "    <tr>\n",
       "      <th>filings_d_425</th>\n",
       "      <td>8.703411e+04</td>\n",
       "    </tr>\n",
       "    <tr>\n",
       "      <th>filings_d_8-K</th>\n",
       "      <td>1.761049e+06</td>\n",
       "    </tr>\n",
       "    <tr>\n",
       "      <th>filings_d_8-K/A</th>\n",
       "      <td>3.709602e+05</td>\n",
       "    </tr>\n",
       "    <tr>\n",
       "      <th>filings_d_ARS</th>\n",
       "      <td>-1.679862e+06</td>\n",
       "    </tr>\n",
       "    <tr>\n",
       "      <th>filings_d_CORRESP</th>\n",
       "      <td>4.547637e+05</td>\n",
       "    </tr>\n",
       "    <tr>\n",
       "      <th>filings_d_CT ORDER</th>\n",
       "      <td>-4.118660e+05</td>\n",
       "    </tr>\n",
       "    <tr>\n",
       "      <th>filings_d_D</th>\n",
       "      <td>-5.820766e-10</td>\n",
       "    </tr>\n",
       "    <tr>\n",
       "      <th>filings_d_DEFA14A</th>\n",
       "      <td>-1.546811e+06</td>\n",
       "    </tr>\n",
       "    <tr>\n",
       "      <th>filings_d_EFFECT</th>\n",
       "      <td>1.947131e+06</td>\n",
       "    </tr>\n",
       "    <tr>\n",
       "      <th>filings_d_NO ACT</th>\n",
       "      <td>-1.629815e-09</td>\n",
       "    </tr>\n",
       "    <tr>\n",
       "      <th>filings_d_NT 10-K</th>\n",
       "      <td>1.834414e+06</td>\n",
       "    </tr>\n",
       "    <tr>\n",
       "      <th>filings_d_POS AM</th>\n",
       "      <td>1.532879e+07</td>\n",
       "    </tr>\n",
       "    <tr>\n",
       "      <th>filings_d_PRE 14A</th>\n",
       "      <td>1.217318e+07</td>\n",
       "    </tr>\n",
       "    <tr>\n",
       "      <th>filings_d_PX14A6G</th>\n",
       "      <td>1.940961e+06</td>\n",
       "    </tr>\n",
       "    <tr>\n",
       "      <th>filings_d_S-3ASR</th>\n",
       "      <td>-1.209597e+05</td>\n",
       "    </tr>\n",
       "    <tr>\n",
       "      <th>filings_d_S-4</th>\n",
       "      <td>1.572620e+06</td>\n",
       "    </tr>\n",
       "    <tr>\n",
       "      <th>filings_d_S-4/A</th>\n",
       "      <td>-2.037751e+06</td>\n",
       "    </tr>\n",
       "    <tr>\n",
       "      <th>filings_d_S-8</th>\n",
       "      <td>-1.397699e+05</td>\n",
       "    </tr>\n",
       "    <tr>\n",
       "      <th>filings_d_SC 13G</th>\n",
       "      <td>4.940897e+06</td>\n",
       "    </tr>\n",
       "    <tr>\n",
       "      <th>filings_d_SC 13G/A</th>\n",
       "      <td>2.990353e+06</td>\n",
       "    </tr>\n",
       "    <tr>\n",
       "      <th>filings_d_SD</th>\n",
       "      <td>-2.347021e+06</td>\n",
       "    </tr>\n",
       "    <tr>\n",
       "      <th>filings_d_UPLOAD</th>\n",
       "      <td>-1.570720e+06</td>\n",
       "    </tr>\n",
       "    <tr>\n",
       "      <th>filings_d_none</th>\n",
       "      <td>-2.669673e+06</td>\n",
       "    </tr>\n",
       "  </tbody>\n",
       "</table>\n",
       "</div>"
      ],
      "text/plain": [
       "                               0\n",
       "tweet_times_a_day   1.034710e+05\n",
       "stock_price_delta   9.911302e+03\n",
       "weekday_d_2.0       5.318908e+05\n",
       "weekday_d_3.0       3.441943e+05\n",
       "weekday_d_4.0       4.159080e+05\n",
       "weekday_d_5.0       2.196705e+05\n",
       "filings_d_10-K/A   -1.779671e+06\n",
       "filings_d_10-Q      1.436330e+06\n",
       "filings_d_424B5    -4.708838e+05\n",
       "filings_d_425       8.703411e+04\n",
       "filings_d_8-K       1.761049e+06\n",
       "filings_d_8-K/A     3.709602e+05\n",
       "filings_d_ARS      -1.679862e+06\n",
       "filings_d_CORRESP   4.547637e+05\n",
       "filings_d_CT ORDER -4.118660e+05\n",
       "filings_d_D        -5.820766e-10\n",
       "filings_d_DEFA14A  -1.546811e+06\n",
       "filings_d_EFFECT    1.947131e+06\n",
       "filings_d_NO ACT   -1.629815e-09\n",
       "filings_d_NT 10-K   1.834414e+06\n",
       "filings_d_POS AM    1.532879e+07\n",
       "filings_d_PRE 14A   1.217318e+07\n",
       "filings_d_PX14A6G   1.940961e+06\n",
       "filings_d_S-3ASR   -1.209597e+05\n",
       "filings_d_S-4       1.572620e+06\n",
       "filings_d_S-4/A    -2.037751e+06\n",
       "filings_d_S-8      -1.397699e+05\n",
       "filings_d_SC 13G    4.940897e+06\n",
       "filings_d_SC 13G/A  2.990353e+06\n",
       "filings_d_SD       -2.347021e+06\n",
       "filings_d_UPLOAD   -1.570720e+06\n",
       "filings_d_none     -2.669673e+06"
      ]
     },
     "execution_count": 50,
     "metadata": {},
     "output_type": "execute_result"
    }
   ],
   "source": [
    "pd.DataFrame(lm.coef_, index = X.columns)"
   ]
  },
  {
   "cell_type": "markdown",
   "metadata": {},
   "source": [
    "## Modeling Random Forest"
   ]
  },
  {
   "cell_type": "code",
   "execution_count": 51,
   "metadata": {},
   "outputs": [],
   "source": [
    "rf = RandomForestRegressor()"
   ]
  },
  {
   "cell_type": "code",
   "execution_count": 52,
   "metadata": {
    "scrolled": false
   },
   "outputs": [
    {
     "data": {
      "text/plain": [
       "0.1897175265722505"
      ]
     },
     "execution_count": 52,
     "metadata": {},
     "output_type": "execute_result"
    }
   ],
   "source": [
    "# All the features with dummies\n",
    "rf_model = rf.fit(X_train, y_train)\n",
    "rf_model.score(X_test, y_test)"
   ]
  },
  {
   "cell_type": "code",
   "execution_count": 53,
   "metadata": {},
   "outputs": [
    {
     "data": {
      "text/plain": [
       "0.1716597188660521"
      ]
     },
     "execution_count": 53,
     "metadata": {},
     "output_type": "execute_result"
    }
   ],
   "source": [
    "# All the features with dummies standardized\n",
    "rf_model = rf.fit(Xs_train, y_train)\n",
    "rf_model.score(Xs_test, y_test)"
   ]
  },
  {
   "cell_type": "code",
   "execution_count": 54,
   "metadata": {},
   "outputs": [
    {
     "data": {
      "text/plain": [
       "0.19390871486984596"
      ]
     },
     "execution_count": 54,
     "metadata": {},
     "output_type": "execute_result"
    }
   ],
   "source": [
    "# All features with dummies with date shifted SEC filings\n",
    "rf_model = rf.fit(X2_train, y_train)\n",
    "rf_model.score(X2_test, y_test)"
   ]
  },
  {
   "cell_type": "code",
   "execution_count": 55,
   "metadata": {},
   "outputs": [
    {
     "data": {
      "text/plain": [
       "0.025099894208634344"
      ]
     },
     "execution_count": 55,
     "metadata": {},
     "output_type": "execute_result"
    }
   ],
   "source": [
    "# Only the price delta as a feature\n",
    "rf_model = rf.fit(X3_train, y_train)\n",
    "rf_model.score(X3_test, y_test)"
   ]
  },
  {
   "cell_type": "code",
   "execution_count": 56,
   "metadata": {},
   "outputs": [
    {
     "data": {
      "text/plain": [
       "-0.03353515148481079"
      ]
     },
     "execution_count": 56,
     "metadata": {},
     "output_type": "execute_result"
    }
   ],
   "source": [
    "# Only the price delta shift back a day as a feature\n",
    "rf_model = rf.fit(X4_train, y_train)\n",
    "rf_model.score(X4_test, y_test)"
   ]
  },
  {
   "cell_type": "code",
   "execution_count": 57,
   "metadata": {
    "scrolled": true
   },
   "outputs": [
    {
     "data": {
      "text/plain": [
       "0.09407198154951203"
      ]
     },
     "execution_count": 57,
     "metadata": {},
     "output_type": "execute_result"
    }
   ],
   "source": [
    "# All features with dummies with SEC filings and stock price delta date shifted\n",
    "rf_model = rf.fit(X5_train, y_train)\n",
    "rf_model.score(X5_test, y_test)"
   ]
  },
  {
   "cell_type": "code",
   "execution_count": 58,
   "metadata": {},
   "outputs": [],
   "source": [
    "rf_pred = rf_model.predict(X5_test)"
   ]
  },
  {
   "cell_type": "code",
   "execution_count": 59,
   "metadata": {},
   "outputs": [],
   "source": [
    "from sklearn.metrics import mean_squared_error"
   ]
  },
  {
   "cell_type": "code",
   "execution_count": 60,
   "metadata": {},
   "outputs": [
    {
     "data": {
      "text/plain": [
       "array([  962791.6       ,  2054042.66666667,  1629977.8       ,\n",
       "        2350125.51666667,  2378815.46666667,  3754666.2       ,\n",
       "        4034359.8       ,  9872628.7       ,  1277622.4       ,\n",
       "       12165701.        ,  4757383.2       ,   769290.08      ,\n",
       "         952475.9       ,  3549162.5       ,  6041912.9       ,\n",
       "        2846192.09166667, 11096757.1       ,  4019326.2       ,\n",
       "        2851005.05      ,  6286837.4       ,  2360702.        ,\n",
       "       10434236.3       ,  3205424.6       ,  3828274.4       ,\n",
       "        6450232.3       ,  5775919.1       ,  3464681.2       ,\n",
       "        6458326.9       ,  1049901.8       ,  3394525.4       ,\n",
       "        7693732.2       ,  4406390.4       ,  1165298.7       ,\n",
       "        6706811.9       ,   687750.6       ,  9809001.8       ,\n",
       "         949043.8       ,  1094067.4       ,  1403887.65      ,\n",
       "        5638730.45      ,  6113146.4       ,  2480099.22      ,\n",
       "        5635822.7       ,   835173.        ,  3731135.3       ,\n",
       "        2952929.65      ,  4936034.7       , 15759957.        ,\n",
       "        5672279.6       ,  3765236.8       ,  5736351.6       ,\n",
       "        7037077.7       ,  4993295.7       ,  5157298.4       ,\n",
       "        4917826.2       ,  5906574.6       ,  1741316.        ,\n",
       "        3330083.3       ,  7690412.8       ,  3524480.        ,\n",
       "        1803543.4       ,  5143706.4       ,  1459334.7       ,\n",
       "        9775527.9       ,  3851316.5       ,  8345428.9       ,\n",
       "        3278654.26666667,  5982710.9       ,  2394613.2       ,\n",
       "        3771325.4       ,  6595500.3       ,  5605870.2       ,\n",
       "        1146311.85      ,  1489324.6       ,  6427379.3       ,\n",
       "        7717527.03333333,  5400194.3       ,   982448.3       ,\n",
       "        4095235.9       ,  4937682.3       ,  5638730.45      ,\n",
       "        4976994.5       ,  3157921.5       ,   880552.2       ,\n",
       "        4222833.6       ,  6148228.6       ,  5938051.9       ,\n",
       "        5375009.46666667,  7553214.9       ,   857318.8       ,\n",
       "        1043079.4       ,  1692930.        ,  1632753.48333333,\n",
       "        7827334.3       ,  3454469.2       ,  2006189.        ,\n",
       "        3219867.1       ,  1683998.96666667,  4976994.5       ,\n",
       "        2983194.        ,  1977416.575     ,  7555712.3       ,\n",
       "        7569987.3       ,  9013687.        ,  6393721.5       ,\n",
       "        7740203.2       ,  3928054.3       ,  5756841.2       ,\n",
       "        7736308.8       ,  8406117.1       ,  3238088.8       ,\n",
       "        6012725.9       ,  1050106.8       ,  8535685.1       ,\n",
       "        3999214.76      ,  1649497.8       ,  4590749.1       ,\n",
       "        6129865.1       ,  2076766.2       ,  2448128.3       ,\n",
       "        1809477.56666667,  5556335.8       ,  3339173.        ,\n",
       "        2947395.1       ,  7955873.1       ,  3609979.8       ,\n",
       "        2591734.1       ,  5976426.6       ,  3567600.3       ,\n",
       "        4923107.2       ,  5526327.1       ,  6347409.15      ,\n",
       "        1323199.5       ,  8415309.3       ,  4141028.7       ,\n",
       "        4587147.8       ,  1140393.86666667,  5878888.6       ,\n",
       "        8358401.2       , 10764929.4       ,  1717810.3       ,\n",
       "        5115888.8       ,  5531971.9       ,  5638730.45      ,\n",
       "        2570924.3       ,  3665001.1       ,  1792416.6       ,\n",
       "        3366154.05      ,  1338140.9       ,  6742469.6       ,\n",
       "        6870319.3       ,  2699950.5       ,  5705552.2       ,\n",
       "        1674172.        ,  2049896.9       ,  1177079.1       ,\n",
       "        3057079.43333333,  2662498.5       , 20495146.8       ,\n",
       "        2453892.1       ,  2711022.3       ,  1314986.1       ,\n",
       "        5004038.45      ,  4735407.1       , 18941906.5       ,\n",
       "        7879655.8       ,  7660176.3       ,  1667534.6       ,\n",
       "        1996116.2       ,  4036385.9       ,  2298956.1       ,\n",
       "        3697415.6       ,  2357702.1       ,  3650133.5       ,\n",
       "        1746364.8       ,  7008812.4       ,   658589.33333333,\n",
       "        2574741.8       ,  1009340.6       ,  1595422.7       ,\n",
       "        6143363.5       ,  2412659.6       ,  5377128.7       ,\n",
       "        2677326.6       ,  7533893.3       ,  7201160.1       ,\n",
       "        1753499.4       ,  1879688.8       ,  1872687.6       ,\n",
       "        4247156.7       ,  6246971.7       ,  2846192.09166667,\n",
       "        1210051.3       ,   765035.7       ,  7540165.5       ,\n",
       "        3746238.5       ,  8208678.7       ,  6784740.7       ,\n",
       "        3928687.        ,  1853840.1       ,   900589.4       ,\n",
       "        2129170.3       ,  8862887.4       ,  5641447.        ,\n",
       "         962505.8       ,   887516.9       ,   726179.81666667,\n",
       "       13722079.7       ,  6335591.8       ,  4409502.2       ,\n",
       "         858024.16666667,  3608630.9       ,  8949299.4       ,\n",
       "        7184959.        ,  8103219.75      ,  4628824.96      ,\n",
       "         953823.6       ,  3983445.83333333,  2982318.3       ,\n",
       "        3015837.2       ,  4493124.1       , 10608079.4       ,\n",
       "        3774855.1       ,  5454477.3       ,  6579255.8       ,\n",
       "        8725763.7       ,  6061789.2       ,  1245233.66666667,\n",
       "         707375.2       ,  8804772.1       ,  9326797.13333333,\n",
       "        5004560.        ,  5669105.6       ,  4471531.8       ,\n",
       "        1181824.775     ,  5222181.7       ,  4320088.8       ,\n",
       "        6148069.5       ,  1757685.25      ,  6106631.94      ,\n",
       "        6559738.6       ,  1338140.9       ,  2220066.7       ,\n",
       "        1501528.        ,  2433945.3       ,  6216146.3       ,\n",
       "        2306936.        ,  2799697.9       ,  8139849.65      ,\n",
       "       13472335.        ,  5305993.6       ,  8527586.4       ,\n",
       "        1826863.96666667,  2992090.4       ,  6106631.94      ,\n",
       "         958674.76666667,  2222395.4       ,  1806663.9       ,\n",
       "         953271.65      ,  4465808.9       ,  4025733.5       ,\n",
       "        8734909.9       ,  6348177.575     ,  3559248.        ,\n",
       "        2388032.8       ,  2960794.1       ,  1049064.9       ,\n",
       "        1600466.8       ,  3942452.3       ,  4073462.7       ,\n",
       "        3341438.6       ,  6391696.3       ,  8752320.9       ,\n",
       "        5969669.6       , 10876620.4       ,  6423155.2       ,\n",
       "         956624.4       ,  2527375.1       ,  4676294.        ,\n",
       "        7721765.8       ,  4699215.2       ,  2760585.1       ,\n",
       "        5448299.8       ,  1619360.28333333,  4708349.5       ,\n",
       "        6605127.5       ,  5727430.2       ,  7111295.1       ,\n",
       "        7153752.9       , 15622378.1       ,  6762925.3       ,\n",
       "        7895547.25      ,  5417061.6       ,  9456066.5       ,\n",
       "         744192.        ,  4262029.6       ,  9699972.1       ,\n",
       "        7659591.3       ,  5654830.5       ,  1294284.2       ,\n",
       "        1519630.5       ,  2656276.93333333,  5155742.3       ,\n",
       "        1762853.7       ,  4633894.5       ,  9466561.2       ,\n",
       "        5131275.8       ,  3787810.5       ,  4479214.9       ,\n",
       "        4793578.64285714,  5740204.7       ,  1362013.        ,\n",
       "        1589059.8       ,  5436204.4       ,  6077496.5       ,\n",
       "       13739275.1       ,  5434276.4       ,  3455679.56666667,\n",
       "        1054868.08333333,  5733160.        ,  4900198.2       ,\n",
       "        6553556.9       ,  5087451.63333333,  9868211.2       ,\n",
       "        2080143.9       ,   912393.1       ,  6401925.8       ,\n",
       "        6315465.6       ,  3051445.3       ,  1421333.2       ,\n",
       "        1056450.4       ,  9671047.2       ,  5894542.6       ,\n",
       "        5384242.6       ,  5466968.15      ,  7503778.9       ,\n",
       "        5117917.6       ,  9418020.        , 10860472.        ,\n",
       "        6544732.4       ,  3017888.        ,  2751760.3       ,\n",
       "        5936555.3       ,  5840874.9       ,  1700339.6       ,\n",
       "        7534866.3       ,   953823.6       ,  5670936.8       ,\n",
       "        3496426.        ,  4547220.93333333,  2745379.03      ,\n",
       "        2557993.825     ,  6169759.        ,  2362403.6       ,\n",
       "       13300194.2       ,  2161719.3       ,  8705713.53333333,\n",
       "        5969732.1       ,   367248.65      ,  1866408.65      ,\n",
       "        2108228.75      ,  7295660.68      ,  3113120.3       ,\n",
       "        5122286.4       ,  6958633.9       ,  7256941.6       ,\n",
       "        6818961.        ,  3059601.4       ,  5387048.9       ,\n",
       "       12510711.        ,  1126509.01666667,  9534207.7       ,\n",
       "        6079699.6       ,  4236330.48      ,  7453550.1       ,\n",
       "        1960609.875     ,  3928054.3       ,  6306311.6       ,\n",
       "       10636651.1       ,  8839471.4       ,  6939469.7       ,\n",
       "        5570797.9       , 15878791.        ,  1472153.76666667,\n",
       "        7231652.        ,  6839134.1       ,  6426405.9       ,\n",
       "       12364626.8       ,   978120.8       ,  3664681.13333333,\n",
       "        3065198.96666667,  9661407.8       ,  8392297.6       ,\n",
       "        1883076.6       ,  1918533.55      , 10149596.9       ,\n",
       "        1582527.83333333,  4079482.4       ,  5715941.3       ,\n",
       "        8139849.65      ,  2520803.2       ,  1446765.21666667,\n",
       "        3633918.9       ,  5655166.3       ,  6030020.5       ,\n",
       "        2071480.4       ,  2154696.1       ,   857853.7       ,\n",
       "        1416498.26666667,  4789465.75      ,  2681022.75833333,\n",
       "        8808707.4       ,  7377818.9       , 12614585.8       ,\n",
       "        2934689.56      , 11694800.        ,  5321604.1       ,\n",
       "        3319228.3       ,  5741633.7       ,  4191281.5       ,\n",
       "        5456050.5       ,  5394691.3       ,  3578603.9       ,\n",
       "        4262029.6       ,  6354631.        ,  5203536.4       ,\n",
       "        1127444.7       ,  5175151.6       ,  5521480.2       ,\n",
       "        1939584.8       ,  2099588.65      ,  6059724.8       ,\n",
       "        4843262.3       ,   857195.15      ,  5817660.9       ,\n",
       "        5838594.8       ,  1406654.1       ,  6525218.4       ,\n",
       "       10278981.1       ,  4241965.8       ,  9747171.3       ,\n",
       "        2934547.7       ,  3615413.9       ,   846327.92666667,\n",
       "        6639949.5       ,  1403887.65      ,  6512901.3       ,\n",
       "        6139969.4       ,  4934983.6       ,  7347859.4       ,\n",
       "        7231652.        ,  6178463.8       ,  3007147.9       ,\n",
       "        2109452.8       ,  8942502.3       ,  4080180.8       ,\n",
       "        5729429.9       ,  5231442.4       , 15641604.5       ,\n",
       "        3923443.5       ,  6728087.7       ,   923642.7       ,\n",
       "        8008417.7       ,  5351238.75      ,  3497516.7       ,\n",
       "       10039561.1       ,  6329393.3       ,  5040106.4       ,\n",
       "         573973.8       ,  3698535.3       ,  6832299.2       ,\n",
       "        3692167.4       ,  4908557.15      ,  8856749.5       ,\n",
       "        1470185.        ,  2378256.4       ,  1655459.36666667,\n",
       "       14785188.4       ,  6458127.2       ,  1323199.5       ,\n",
       "        4682008.36666667,  5138399.025     ,  9038078.5       ,\n",
       "        3317546.4       ,  3503932.7       ,   413837.95      ,\n",
       "        6104705.9       ,  6378911.7       ,  6964779.5       ,\n",
       "        1185741.36666667,  6513090.1       ,  1403887.65      ,\n",
       "        8190979.6       ,  4375983.75      ,  4595056.8       ,\n",
       "        3561657.1       ,  2175060.2       ,  3496230.6       ,\n",
       "        5068664.5       ,  2805596.1       ,  6647723.3       ,\n",
       "        4671848.2       ,  4236330.48      ,  1133454.95      ,\n",
       "        4248111.1       ,  2112628.7       ,  8252439.9       ,\n",
       "        2442252.7       ,  4476313.25      ,  6426507.7       ,\n",
       "       10925362.1       ,  8909439.2       ,  1852149.        ,\n",
       "        1945455.7       ,  1043796.8       ,  3445018.3       ,\n",
       "        7245855.2       ,  5575028.25      ,  5302533.7       ,\n",
       "         875149.9       ,  2634548.23333333,  2272672.06666667,\n",
       "        2393559.4       , 15130609.2       ,  5393131.8       ,\n",
       "        4084741.7       , 13419990.4       ,  1886097.        ,\n",
       "        6764414.58333333,  5502857.6       ,  3282019.225     ,\n",
       "        1025806.7       ,  6887403.5       ,  5317801.6       ,\n",
       "        2597781.        ,  5885842.3       ,  6075067.9       ,\n",
       "        3357877.6       ,  6316849.81666667,  7164033.6       ,\n",
       "         705749.525     ,  6750462.6       ,  2241028.9       ,\n",
       "         958462.6       ,  1981699.66666667,  9880906.4       ,\n",
       "        4184283.5       ,  3816171.        ,  4403893.4       ,\n",
       "        8165783.6       , 15161945.2       ,  1197957.2       ,\n",
       "        6207228.4       ,  2383142.71666667,  8409044.5       ,\n",
       "        7826479.3       ,  6626549.2       ,  9485231.8       ,\n",
       "        6390299.3       ,  2887185.6       ,  4735407.1       ,\n",
       "        6578395.3       , 10468371.2       ,  2916635.6       ,\n",
       "       11666467.4       ,  2979561.3       ,  1511771.6       ,\n",
       "        6943098.4       ,  3313775.        ,  1472153.76666667,\n",
       "       14007179.        ,  4982157.2       ,  4482500.6       ,\n",
       "        7481774.7       ,  2150261.46666667,  1806663.9       ,\n",
       "        5341401.7       ,  6599800.6       ,  3561657.1       ,\n",
       "        2344619.6       ,  2796108.9       ,  1422514.83333333,\n",
       "        8373607.        ,  4335667.6       ,  6729295.7       ,\n",
       "        1723861.96666667,  8743051.7       ,  1522698.36666667,\n",
       "        1917230.96666667,  5204507.6       ,  2359095.4       ,\n",
       "        2383142.71666667,   922871.95      ,  3042924.7       ,\n",
       "       14457339.4       ,  7710582.9       ,  8946539.7       ,\n",
       "        5265079.1       ,  9557448.        ,  7551761.9       ,\n",
       "        2759291.8       ,  1739454.5       ,  3210327.6       ,\n",
       "        1897286.66666667, 12525150.3       ,  1498974.46666667,\n",
       "        1049901.8       ,  2363198.8       ,  6866511.7       ,\n",
       "        6711047.03333333,  1919404.        ,  5543184.        ,\n",
       "        3141635.6       ,  7797640.        ,  2544714.2       ,\n",
       "        2884079.6       ,  4511357.4       ,  1391924.4       ,\n",
       "        2662520.4       ,  1178567.84333333,  1891227.        ,\n",
       "        1664199.2       ,  4872022.4       ,  3725057.4       ,\n",
       "        6515878.5       ,  1265942.1       ])"
      ]
     },
     "execution_count": 60,
     "metadata": {},
     "output_type": "execute_result"
    }
   ],
   "source": [
    "rf_pred"
   ]
  },
  {
   "cell_type": "code",
   "execution_count": 61,
   "metadata": {
    "scrolled": true
   },
   "outputs": [
    {
     "data": {
      "text/plain": [
       "19607656203323.2"
      ]
     },
     "execution_count": 61,
     "metadata": {},
     "output_type": "execute_result"
    }
   ],
   "source": [
    "mean_squared_error(y_test, rf_pred)"
   ]
  },
  {
   "cell_type": "code",
   "execution_count": 62,
   "metadata": {},
   "outputs": [
    {
     "data": {
      "image/png": "[encoded data removed]",
      "text/plain": [
       "<Figure size 432x288 with 2 Axes>"
      ]
     },
     "metadata": {},
     "output_type": "display_data"
    }
   ],
   "source": [
    "x = rf_pred\n",
    "y = y_test\n",
    "colors = y_test\n",
    "sizes = 20\n",
    "\n",
    "plt.scatter(x, y, c=colors, s=sizes, alpha=0.3,\n",
    "            cmap='viridis')\n",
    "plt.colorbar();  # show color scale"
   ]
  },
  {
   "cell_type": "code",
   "execution_count": 63,
   "metadata": {
    "scrolled": false
   },
   "outputs": [
    {
     "data": {
      "text/plain": [
       "(0, 30000000)"
      ]
     },
     "execution_count": 63,
     "metadata": {},
     "output_type": "execute_result"
    },
    {
     "data": {
      "image/png": "[encoded data removed]",
      "text/plain": [
       "<Figure size 720x720 with 1 Axes>"
      ]
     },
     "metadata": {},
     "output_type": "display_data"
    }
   ],
   "source": [
    "plt.figure(figsize=(10,10))\n",
    "plt.scatter(rf_pred, y_test)\n",
    "plt.ylim(0,30000000)\n",
    "plt.xlim(0,30000000)"
   ]
  },
  {
   "cell_type": "markdown",
   "metadata": {},
   "source": [
    "## Modeling Lasso Regression"
   ]
  },
  {
   "cell_type": "markdown",
   "metadata": {},
   "source": [
    "notes to self: A super important fact we need to notice about ridge regression is that it enforces the β coefficients to be lower, but it does not enforce them to be zero. That is, it will not get rid of irrelevant features but rather minimize their impact on the trained model.\n",
    "\n",
    "The only difference from Ridge regression is that the regularization term is in absolute value. But this difference has a huge impact on the trade-off we’ve discussed before. Lasso method overcomes the disadvantage of Ridge regression by not only punishing high values of the coefficients β but actually setting them to zero if they are not relevant. Therefore, you might end up with fewer features included in the model than you started with, which is a huge advantage"
   ]
  },
  {
   "cell_type": "code",
   "execution_count": 64,
   "metadata": {},
   "outputs": [],
   "source": [
    "from sklearn.linear_model import LinearRegression"
   ]
  },
  {
   "cell_type": "code",
   "execution_count": 65,
   "metadata": {},
   "outputs": [],
   "source": [
    "# Lasso model\n",
    "lasso_model = linear_model.Lasso(alpha = 5)\n",
    "lasso_model = lasso_model.fit(X_train, y_train)\n",
    "lasso_predictions = lasso_model.predict(X_test)"
   ]
  },
  {
   "cell_type": "code",
   "execution_count": 66,
   "metadata": {},
   "outputs": [],
   "source": [
    "# Why does this not work\n",
    "#lasso_predictions.score(X_train, y_train)"
   ]
  },
  {
   "cell_type": "code",
   "execution_count": 67,
   "metadata": {},
   "outputs": [
    {
     "data": {
      "text/plain": [
       "-13.333041843386045"
      ]
     },
     "execution_count": 67,
     "metadata": {},
     "output_type": "execute_result"
    }
   ],
   "source": [
    "metrics.r2_score(lasso_predictions, y_test) # 0 = 100%"
   ]
  },
  {
   "cell_type": "code",
   "execution_count": 68,
   "metadata": {},
   "outputs": [],
   "source": [
    "# Lasso model with scaled features\n",
    "slasso_model = linear_model.Lasso(alpha = 5)\n",
    "slasso_model = lasso_model.fit(Xs_train, y_train)\n",
    "slasso_predictions = lasso_model.predict(Xs_test)"
   ]
  },
  {
   "cell_type": "code",
   "execution_count": 69,
   "metadata": {},
   "outputs": [
    {
     "data": {
      "text/plain": [
       "-13.33326528485979"
      ]
     },
     "execution_count": 69,
     "metadata": {},
     "output_type": "execute_result"
    }
   ],
   "source": [
    "metrics.r2_score(slasso_predictions, y_test) # 0 = 100%"
   ]
  },
  {
   "cell_type": "code",
   "execution_count": 70,
   "metadata": {},
   "outputs": [
    {
     "data": {
      "text/plain": [
       "array([4295831.83274793, 4094841.77136419, 4358396.10978736,\n",
       "       4332502.1239843 , 4451049.64552217, 5133578.54189675,\n",
       "       5173507.76775226, 4286770.48814965, 4023181.95231629,\n",
       "       4648231.15729535, 4617323.84711029, 4505620.06434652,\n",
       "       4179748.9287144 , 4486272.91367426, 8734318.76562474,\n",
       "       4384741.16602192, 4256314.24839609, 3996151.58656216,\n",
       "       4242730.07877515, 6250999.13761518])"
      ]
     },
     "execution_count": 70,
     "metadata": {},
     "output_type": "execute_result"
    }
   ],
   "source": [
    "lasso_predictions[0:20]"
   ]
  },
  {
   "cell_type": "code",
   "execution_count": 71,
   "metadata": {
    "scrolled": true
   },
   "outputs": [
    {
     "data": {
      "text/plain": [
       "<matplotlib.collections.PathCollection at 0x1c8d4db3898>"
      ]
     },
     "execution_count": 71,
     "metadata": {},
     "output_type": "execute_result"
    },
    {
     "data": {
      "image/png": "[encoded data removed]",
      "text/plain": [
       "<Figure size 1440x360 with 1 Axes>"
      ]
     },
     "metadata": {},
     "output_type": "display_data"
    }
   ],
   "source": [
    "plt.figure(figsize=(20,5))\n",
    "plt.scatter(lasso_predictions, y_test)"
   ]
  },
  {
   "cell_type": "code",
   "execution_count": 72,
   "metadata": {},
   "outputs": [
    {
     "data": {
      "text/plain": [
       "<matplotlib.collections.PathCollection at 0x1c8d4d764a8>"
      ]
     },
     "execution_count": 72,
     "metadata": {},
     "output_type": "execute_result"
    },
    {
     "data": {
      "image/png": "[encoded data removed]",
      "text/plain": [
       "<Figure size 1440x360 with 1 Axes>"
      ]
     },
     "metadata": {},
     "output_type": "display_data"
    }
   ],
   "source": [
    "plt.figure(figsize=(20,5))\n",
    "plt.scatter(slasso_predictions, y_test)"
   ]
  },
  {
   "cell_type": "code",
   "execution_count": 73,
   "metadata": {
    "scrolled": false
   },
   "outputs": [
    {
     "data": {
      "text/html": [
       "<div>\n",
       "<style scoped>\n",
       "    .dataframe tbody tr th:only-of-type {\n",
       "        vertical-align: middle;\n",
       "    }\n",
       "\n",
       "    .dataframe tbody tr th {\n",
       "        vertical-align: top;\n",
       "    }\n",
       "\n",
       "    .dataframe thead th {\n",
       "        text-align: right;\n",
       "    }\n",
       "</style>\n",
       "<table border=\"1\" class=\"dataframe\">\n",
       "  <thead>\n",
       "    <tr style=\"text-align: right;\">\n",
       "      <th></th>\n",
       "      <th>0</th>\n",
       "    </tr>\n",
       "  </thead>\n",
       "  <tbody>\n",
       "    <tr>\n",
       "      <th>tweet_times_a_day</th>\n",
       "      <td>256400.106832</td>\n",
       "    </tr>\n",
       "    <tr>\n",
       "      <th>stock_price_delta</th>\n",
       "      <td>195837.637711</td>\n",
       "    </tr>\n",
       "    <tr>\n",
       "      <th>weekday_d_2.0</th>\n",
       "      <td>-75014.475116</td>\n",
       "    </tr>\n",
       "    <tr>\n",
       "      <th>weekday_d_3.0</th>\n",
       "      <td>-47293.839664</td>\n",
       "    </tr>\n",
       "    <tr>\n",
       "      <th>weekday_d_4.0</th>\n",
       "      <td>-130569.289712</td>\n",
       "    </tr>\n",
       "    <tr>\n",
       "      <th>weekday_d_5.0</th>\n",
       "      <td>-218141.249788</td>\n",
       "    </tr>\n",
       "    <tr>\n",
       "      <th>filings_d_10-K/A</th>\n",
       "      <td>-33934.031650</td>\n",
       "    </tr>\n",
       "    <tr>\n",
       "      <th>filings_d_10-Q</th>\n",
       "      <td>148710.892094</td>\n",
       "    </tr>\n",
       "    <tr>\n",
       "      <th>filings_d_424B5</th>\n",
       "      <td>-47472.846934</td>\n",
       "    </tr>\n",
       "    <tr>\n",
       "      <th>filings_d_425</th>\n",
       "      <td>13946.250942</td>\n",
       "    </tr>\n",
       "    <tr>\n",
       "      <th>filings_d_8-K</th>\n",
       "      <td>375526.231030</td>\n",
       "    </tr>\n",
       "    <tr>\n",
       "      <th>filings_d_8-K/A</th>\n",
       "      <td>3000.947448</td>\n",
       "    </tr>\n",
       "    <tr>\n",
       "      <th>filings_d_ARS</th>\n",
       "      <td>-78872.250307</td>\n",
       "    </tr>\n",
       "    <tr>\n",
       "      <th>filings_d_CORRESP</th>\n",
       "      <td>23006.335291</td>\n",
       "    </tr>\n",
       "    <tr>\n",
       "      <th>filings_d_CT ORDER</th>\n",
       "      <td>-42015.828011</td>\n",
       "    </tr>\n",
       "    <tr>\n",
       "      <th>filings_d_D</th>\n",
       "      <td>-0.000000</td>\n",
       "    </tr>\n",
       "    <tr>\n",
       "      <th>filings_d_DEFA14A</th>\n",
       "      <td>-105809.376313</td>\n",
       "    </tr>\n",
       "    <tr>\n",
       "      <th>filings_d_EFFECT</th>\n",
       "      <td>30027.044515</td>\n",
       "    </tr>\n",
       "    <tr>\n",
       "      <th>filings_d_NO ACT</th>\n",
       "      <td>-0.000000</td>\n",
       "    </tr>\n",
       "    <tr>\n",
       "      <th>filings_d_NT 10-K</th>\n",
       "      <td>46177.009050</td>\n",
       "    </tr>\n",
       "    <tr>\n",
       "      <th>filings_d_POS AM</th>\n",
       "      <td>331376.397354</td>\n",
       "    </tr>\n",
       "    <tr>\n",
       "      <th>filings_d_PRE 14A</th>\n",
       "      <td>251164.988948</td>\n",
       "    </tr>\n",
       "    <tr>\n",
       "      <th>filings_d_PX14A6G</th>\n",
       "      <td>102106.097971</td>\n",
       "    </tr>\n",
       "    <tr>\n",
       "      <th>filings_d_S-3ASR</th>\n",
       "      <td>-11786.095216</td>\n",
       "    </tr>\n",
       "    <tr>\n",
       "      <th>filings_d_S-4</th>\n",
       "      <td>36394.175882</td>\n",
       "    </tr>\n",
       "    <tr>\n",
       "      <th>filings_d_S-4/A</th>\n",
       "      <td>-50164.877823</td>\n",
       "    </tr>\n",
       "    <tr>\n",
       "      <th>filings_d_S-8</th>\n",
       "      <td>-18245.704194</td>\n",
       "    </tr>\n",
       "    <tr>\n",
       "      <th>filings_d_SC 13G</th>\n",
       "      <td>234769.706117</td>\n",
       "    </tr>\n",
       "    <tr>\n",
       "      <th>filings_d_SC 13G/A</th>\n",
       "      <td>280963.541276</td>\n",
       "    </tr>\n",
       "    <tr>\n",
       "      <th>filings_d_SD</th>\n",
       "      <td>-126571.247973</td>\n",
       "    </tr>\n",
       "    <tr>\n",
       "      <th>filings_d_UPLOAD</th>\n",
       "      <td>-115979.735349</td>\n",
       "    </tr>\n",
       "    <tr>\n",
       "      <th>filings_d_none</th>\n",
       "      <td>-868088.440542</td>\n",
       "    </tr>\n",
       "  </tbody>\n",
       "</table>\n",
       "</div>"
      ],
      "text/plain": [
       "                                0\n",
       "tweet_times_a_day   256400.106832\n",
       "stock_price_delta   195837.637711\n",
       "weekday_d_2.0       -75014.475116\n",
       "weekday_d_3.0       -47293.839664\n",
       "weekday_d_4.0      -130569.289712\n",
       "weekday_d_5.0      -218141.249788\n",
       "filings_d_10-K/A    -33934.031650\n",
       "filings_d_10-Q      148710.892094\n",
       "filings_d_424B5     -47472.846934\n",
       "filings_d_425        13946.250942\n",
       "filings_d_8-K       375526.231030\n",
       "filings_d_8-K/A       3000.947448\n",
       "filings_d_ARS       -78872.250307\n",
       "filings_d_CORRESP    23006.335291\n",
       "filings_d_CT ORDER  -42015.828011\n",
       "filings_d_D             -0.000000\n",
       "filings_d_DEFA14A  -105809.376313\n",
       "filings_d_EFFECT     30027.044515\n",
       "filings_d_NO ACT        -0.000000\n",
       "filings_d_NT 10-K    46177.009050\n",
       "filings_d_POS AM    331376.397354\n",
       "filings_d_PRE 14A   251164.988948\n",
       "filings_d_PX14A6G   102106.097971\n",
       "filings_d_S-3ASR    -11786.095216\n",
       "filings_d_S-4        36394.175882\n",
       "filings_d_S-4/A     -50164.877823\n",
       "filings_d_S-8       -18245.704194\n",
       "filings_d_SC 13G    234769.706117\n",
       "filings_d_SC 13G/A  280963.541276\n",
       "filings_d_SD       -126571.247973\n",
       "filings_d_UPLOAD   -115979.735349\n",
       "filings_d_none     -868088.440542"
      ]
     },
     "execution_count": 73,
     "metadata": {},
     "output_type": "execute_result"
    }
   ],
   "source": [
    "pd.DataFrame(lasso_model.coef_, index = X.columns)"
   ]
  },
  {
   "cell_type": "code",
   "execution_count": 74,
   "metadata": {},
   "outputs": [],
   "source": [
    "import seaborn as sns"
   ]
  },
  {
   "cell_type": "code",
   "execution_count": 75,
   "metadata": {},
   "outputs": [
    {
     "name": "stderr",
     "output_type": "stream",
     "text": [
      "C:\\Users\\Matt\\Anaconda3\\lib\\site-packages\\matplotlib\\axes\\_axes.py:6462: UserWarning: The 'normed' kwarg is deprecated, and has been replaced by the 'density' kwarg.\n",
      "  warnings.warn(\"The 'normed' kwarg is deprecated, and has been \"\n"
     ]
    },
    {
     "data": {
      "text/plain": [
       "<matplotlib.axes._subplots.AxesSubplot at 0x1c8d5ee88d0>"
      ]
     },
     "execution_count": 75,
     "metadata": {},
     "output_type": "execute_result"
    },
    {
     "data": {
      "image/png": "[encoded data removed]",
      "text/plain": [
       "<Figure size 432x288 with 1 Axes>"
      ]
     },
     "metadata": {},
     "output_type": "display_data"
    }
   ],
   "source": [
    "sns.distplot(y)"
   ]
  },
  {
   "cell_type": "code",
   "execution_count": 76,
   "metadata": {},
   "outputs": [
    {
     "data": {
      "text/plain": [
       "4841824.419561714"
      ]
     },
     "execution_count": 76,
     "metadata": {},
     "output_type": "execute_result"
    }
   ],
   "source": [
    "lasso_model.intercept_ # intercept = Monday"
   ]
  },
  {
   "cell_type": "code",
   "execution_count": 77,
   "metadata": {},
   "outputs": [],
   "source": [
    "#dummies, week day int to string 1 = Monday\n",
    "#dummy for sec filling,"
   ]
  }
 ],
 "metadata": {
  "kernelspec": {
   "display_name": "Python 3",
   "language": "python",
   "name": "python3"
  },
  "language_info": {
   "codemirror_mode": {
    "name": "ipython",
    "version": 3
   },
   "file_extension": ".py",
   "mimetype": "text/x-python",
   "name": "python",
   "nbconvert_exporter": "python",
   "pygments_lexer": "ipython3",
   "version": "3.6.5"
  }
 },
 "nbformat": 4,
 "nbformat_minor": 2
}
