{
 "cells": [
  {
   "cell_type": "markdown",
   "metadata": {},
   "source": [
    "# Part 1.1 Data Munging Tesla Stock Data"
   ]
  },
  {
   "cell_type": "markdown",
   "metadata": {},
   "source": [
    "# Capstone Index\n",
    "\n",
    "    \n",
    "+    [Part 1.1 Data Munging Tesla Stock Data](Part_1_API_Query.ipynb.ipynb)\n",
    "+    [Part 1.2 Data Munging Elon Musk Twitter Data](Tweets_dayofweek_10_14_2018.ipynb)\n",
    "+    [Part 1.3 Merging all the data into one csv file](tbd file name.ipynb)"
   ]
  },
  {
   "cell_type": "markdown",
   "metadata": {},
   "source": [
    "## Importing Stuff"
   ]
  },
  {
   "cell_type": "code",
   "execution_count": 1,
   "metadata": {},
   "outputs": [],
   "source": [
    "import requests\n",
    "import json \n",
    "import pandas as pd \n",
    "import numpy as np\n",
    "\n",
    "%matplotlib inline"
   ]
  },
  {
   "cell_type": "markdown",
   "metadata": {},
   "source": [
    "## Loading and Coverting Data to Pandas Dataframe"
   ]
  },
  {
   "cell_type": "code",
   "execution_count": 2,
   "metadata": {},
   "outputs": [],
   "source": [
    "Stock = pd.read_csv('../Data/HistoricalQuotes_10_years.csv')"
   ]
  },
  {
   "cell_type": "markdown",
   "metadata": {},
   "source": [
    "## Adding a datatime column"
   ]
  },
  {
   "cell_type": "code",
   "execution_count": 3,
   "metadata": {
    "scrolled": true
   },
   "outputs": [
    {
     "data": {
      "text/html": [
       "<div>\n",
       "<style scoped>\n",
       "    .dataframe tbody tr th:only-of-type {\n",
       "        vertical-align: middle;\n",
       "    }\n",
       "\n",
       "    .dataframe tbody tr th {\n",
       "        vertical-align: top;\n",
       "    }\n",
       "\n",
       "    .dataframe thead th {\n",
       "        text-align: right;\n",
       "    }\n",
       "</style>\n",
       "<table border=\"1\" class=\"dataframe\">\n",
       "  <thead>\n",
       "    <tr style=\"text-align: right;\">\n",
       "      <th></th>\n",
       "      <th>date</th>\n",
       "      <th>close</th>\n",
       "      <th>volume</th>\n",
       "      <th>open</th>\n",
       "      <th>high</th>\n",
       "      <th>low</th>\n",
       "    </tr>\n",
       "  </thead>\n",
       "  <tbody>\n",
       "    <tr>\n",
       "      <th>0</th>\n",
       "      <td>15:15</td>\n",
       "      <td>263.25</td>\n",
       "      <td>10,668,172</td>\n",
       "      <td>255.14</td>\n",
       "      <td>266.7700</td>\n",
       "      <td>253.30</td>\n",
       "    </tr>\n",
       "    <tr>\n",
       "      <th>1</th>\n",
       "      <td>2018/10/08</td>\n",
       "      <td>250.56</td>\n",
       "      <td>13371180.0000</td>\n",
       "      <td>264.52</td>\n",
       "      <td>267.7599</td>\n",
       "      <td>249.00</td>\n",
       "    </tr>\n",
       "    <tr>\n",
       "      <th>2</th>\n",
       "      <td>2018/10/05</td>\n",
       "      <td>261.95</td>\n",
       "      <td>17900710.0000</td>\n",
       "      <td>274.65</td>\n",
       "      <td>274.8800</td>\n",
       "      <td>260.00</td>\n",
       "    </tr>\n",
       "    <tr>\n",
       "      <th>3</th>\n",
       "      <td>2018/10/04</td>\n",
       "      <td>281.83</td>\n",
       "      <td>9638885.0000</td>\n",
       "      <td>293.95</td>\n",
       "      <td>294.0000</td>\n",
       "      <td>277.67</td>\n",
       "    </tr>\n",
       "    <tr>\n",
       "      <th>4</th>\n",
       "      <td>2018/10/03</td>\n",
       "      <td>294.80</td>\n",
       "      <td>7982272.0000</td>\n",
       "      <td>303.33</td>\n",
       "      <td>304.6000</td>\n",
       "      <td>291.57</td>\n",
       "    </tr>\n",
       "  </tbody>\n",
       "</table>\n",
       "</div>"
      ],
      "text/plain": [
       "         date   close         volume    open      high     low\n",
       "0       15:15  263.25     10,668,172  255.14  266.7700  253.30\n",
       "1  2018/10/08  250.56  13371180.0000  264.52  267.7599  249.00\n",
       "2  2018/10/05  261.95  17900710.0000  274.65  274.8800  260.00\n",
       "3  2018/10/04  281.83   9638885.0000  293.95  294.0000  277.67\n",
       "4  2018/10/03  294.80   7982272.0000  303.33  304.6000  291.57"
      ]
     },
     "execution_count": 3,
     "metadata": {},
     "output_type": "execute_result"
    }
   ],
   "source": [
    "Stock.head()"
   ]
  },
  {
   "cell_type": "code",
   "execution_count": 4,
   "metadata": {},
   "outputs": [],
   "source": [
    "# Dropping the first row as it is not in the right format.\n",
    "Stock.drop(Stock.index[:1], inplace = True)"
   ]
  },
  {
   "cell_type": "code",
   "execution_count": 5,
   "metadata": {},
   "outputs": [],
   "source": [
    "# Making the Stock['date'] column a datetime format.\n",
    "Stock['date'] = pd.to_datetime(Stock['date'], format = '%Y/%m/%d')"
   ]
  },
  {
   "cell_type": "markdown",
   "metadata": {},
   "source": [
    "## Creating and adding the day_of_week column"
   ]
  },
  {
   "cell_type": "code",
   "execution_count": 6,
   "metadata": {
    "scrolled": false
   },
   "outputs": [],
   "source": [
    "# Does not work\n",
    "#Stock['low'] = Stock['date'].isoweekday()"
   ]
  },
  {
   "cell_type": "code",
   "execution_count": 7,
   "metadata": {
    "scrolled": true
   },
   "outputs": [
    {
     "data": {
      "text/plain": [
       "date      datetime64[ns]:dense\n",
       "close            float64:dense\n",
       "volume            object:dense\n",
       "open             float64:dense\n",
       "high             float64:dense\n",
       "low              float64:dense\n",
       "dtype: object"
      ]
     },
     "execution_count": 7,
     "metadata": {},
     "output_type": "execute_result"
    }
   ],
   "source": [
    "Stock.ftypes"
   ]
  },
  {
   "cell_type": "code",
   "execution_count": 8,
   "metadata": {
    "scrolled": false
   },
   "outputs": [
    {
     "data": {
      "text/plain": [
       "2"
      ]
     },
     "execution_count": 8,
     "metadata": {},
     "output_type": "execute_result"
    }
   ],
   "source": [
    "# For reference\n",
    "Stock['date'][15].isoweekday()"
   ]
  },
  {
   "cell_type": "code",
   "execution_count": 9,
   "metadata": {},
   "outputs": [],
   "source": [
    "# Adding Stocl['day_of_week'] column and making it an integer, as required by isoweekday\n",
    "Stock['day_of_week'] = Stock['close'].astype(int)"
   ]
  },
  {
   "cell_type": "code",
   "execution_count": 10,
   "metadata": {
    "scrolled": true
   },
   "outputs": [
    {
     "data": {
      "text/plain": [
       "date           datetime64[ns]:dense\n",
       "close                 float64:dense\n",
       "volume                 object:dense\n",
       "open                  float64:dense\n",
       "high                  float64:dense\n",
       "low                   float64:dense\n",
       "day_of_week             int32:dense\n",
       "dtype: object"
      ]
     },
     "execution_count": 10,
     "metadata": {},
     "output_type": "execute_result"
    }
   ],
   "source": [
    "Stock.ftypes"
   ]
  },
  {
   "cell_type": "code",
   "execution_count": 11,
   "metadata": {
    "scrolled": false
   },
   "outputs": [
    {
     "name": "stderr",
     "output_type": "stream",
     "text": [
      "C:\\Users\\Matt\\Anaconda3\\lib\\site-packages\\ipykernel_launcher.py:3: SettingWithCopyWarning: \n",
      "A value is trying to be set on a copy of a slice from a DataFrame\n",
      "\n",
      "See the caveats in the documentation: http://pandas.pydata.org/pandas-docs/stable/indexing.html#indexing-view-versus-copy\n",
      "  This is separate from the ipykernel package so we can avoid doing imports until\n"
     ]
    }
   ],
   "source": [
    "i = 1\n",
    "while i < len(Stock):\n",
    "    Stock['day_of_week'][i] = Stock['date'][i].isoweekday()\n",
    "    i += 1"
   ]
  },
  {
   "cell_type": "code",
   "execution_count": 12,
   "metadata": {},
   "outputs": [
    {
     "data": {
      "text/html": [
       "<div>\n",
       "<style scoped>\n",
       "    .dataframe tbody tr th:only-of-type {\n",
       "        vertical-align: middle;\n",
       "    }\n",
       "\n",
       "    .dataframe tbody tr th {\n",
       "        vertical-align: top;\n",
       "    }\n",
       "\n",
       "    .dataframe thead th {\n",
       "        text-align: right;\n",
       "    }\n",
       "</style>\n",
       "<table border=\"1\" class=\"dataframe\">\n",
       "  <thead>\n",
       "    <tr style=\"text-align: right;\">\n",
       "      <th></th>\n",
       "      <th>date</th>\n",
       "      <th>close</th>\n",
       "      <th>volume</th>\n",
       "      <th>open</th>\n",
       "      <th>high</th>\n",
       "      <th>low</th>\n",
       "      <th>day_of_week</th>\n",
       "    </tr>\n",
       "  </thead>\n",
       "  <tbody>\n",
       "    <tr>\n",
       "      <th>1</th>\n",
       "      <td>2018-10-08</td>\n",
       "      <td>250.56</td>\n",
       "      <td>13371180.0000</td>\n",
       "      <td>264.52</td>\n",
       "      <td>267.7599</td>\n",
       "      <td>249.0000</td>\n",
       "      <td>1</td>\n",
       "    </tr>\n",
       "    <tr>\n",
       "      <th>2</th>\n",
       "      <td>2018-10-05</td>\n",
       "      <td>261.95</td>\n",
       "      <td>17900710.0000</td>\n",
       "      <td>274.65</td>\n",
       "      <td>274.8800</td>\n",
       "      <td>260.0000</td>\n",
       "      <td>5</td>\n",
       "    </tr>\n",
       "    <tr>\n",
       "      <th>3</th>\n",
       "      <td>2018-10-04</td>\n",
       "      <td>281.83</td>\n",
       "      <td>9638885.0000</td>\n",
       "      <td>293.95</td>\n",
       "      <td>294.0000</td>\n",
       "      <td>277.6700</td>\n",
       "      <td>4</td>\n",
       "    </tr>\n",
       "    <tr>\n",
       "      <th>4</th>\n",
       "      <td>2018-10-03</td>\n",
       "      <td>294.80</td>\n",
       "      <td>7982272.0000</td>\n",
       "      <td>303.33</td>\n",
       "      <td>304.6000</td>\n",
       "      <td>291.5700</td>\n",
       "      <td>3</td>\n",
       "    </tr>\n",
       "    <tr>\n",
       "      <th>5</th>\n",
       "      <td>2018-10-02</td>\n",
       "      <td>301.02</td>\n",
       "      <td>11699690.0000</td>\n",
       "      <td>313.95</td>\n",
       "      <td>316.8400</td>\n",
       "      <td>299.1500</td>\n",
       "      <td>2</td>\n",
       "    </tr>\n",
       "    <tr>\n",
       "      <th>6</th>\n",
       "      <td>2018-10-01</td>\n",
       "      <td>310.70</td>\n",
       "      <td>21714210.0000</td>\n",
       "      <td>305.77</td>\n",
       "      <td>311.4400</td>\n",
       "      <td>301.0500</td>\n",
       "      <td>1</td>\n",
       "    </tr>\n",
       "    <tr>\n",
       "      <th>7</th>\n",
       "      <td>2018-09-28</td>\n",
       "      <td>264.77</td>\n",
       "      <td>33597290.0000</td>\n",
       "      <td>270.26</td>\n",
       "      <td>278.0000</td>\n",
       "      <td>260.5550</td>\n",
       "      <td>5</td>\n",
       "    </tr>\n",
       "    <tr>\n",
       "      <th>8</th>\n",
       "      <td>2018-09-27</td>\n",
       "      <td>307.52</td>\n",
       "      <td>7337760.0000</td>\n",
       "      <td>312.90</td>\n",
       "      <td>314.9600</td>\n",
       "      <td>306.9100</td>\n",
       "      <td>4</td>\n",
       "    </tr>\n",
       "    <tr>\n",
       "      <th>9</th>\n",
       "      <td>2018-09-26</td>\n",
       "      <td>309.58</td>\n",
       "      <td>7835863.0000</td>\n",
       "      <td>301.91</td>\n",
       "      <td>313.8900</td>\n",
       "      <td>301.1093</td>\n",
       "      <td>3</td>\n",
       "    </tr>\n",
       "    <tr>\n",
       "      <th>10</th>\n",
       "      <td>2018-09-25</td>\n",
       "      <td>300.99</td>\n",
       "      <td>4472287.0000</td>\n",
       "      <td>300.00</td>\n",
       "      <td>304.6000</td>\n",
       "      <td>296.5000</td>\n",
       "      <td>2</td>\n",
       "    </tr>\n",
       "    <tr>\n",
       "      <th>11</th>\n",
       "      <td>2018-09-24</td>\n",
       "      <td>299.68</td>\n",
       "      <td>4834384.0000</td>\n",
       "      <td>298.48</td>\n",
       "      <td>302.9993</td>\n",
       "      <td>293.5800</td>\n",
       "      <td>1</td>\n",
       "    </tr>\n",
       "    <tr>\n",
       "      <th>12</th>\n",
       "      <td>2018-09-21</td>\n",
       "      <td>299.10</td>\n",
       "      <td>5038497.0000</td>\n",
       "      <td>297.70</td>\n",
       "      <td>300.5800</td>\n",
       "      <td>295.3700</td>\n",
       "      <td>5</td>\n",
       "    </tr>\n",
       "    <tr>\n",
       "      <th>13</th>\n",
       "      <td>2018-09-20</td>\n",
       "      <td>298.33</td>\n",
       "      <td>7332477.0000</td>\n",
       "      <td>303.56</td>\n",
       "      <td>305.9800</td>\n",
       "      <td>293.3300</td>\n",
       "      <td>4</td>\n",
       "    </tr>\n",
       "    <tr>\n",
       "      <th>14</th>\n",
       "      <td>2018-09-19</td>\n",
       "      <td>299.02</td>\n",
       "      <td>8264353.0000</td>\n",
       "      <td>280.51</td>\n",
       "      <td>300.0000</td>\n",
       "      <td>280.5000</td>\n",
       "      <td>3</td>\n",
       "    </tr>\n",
       "    <tr>\n",
       "      <th>15</th>\n",
       "      <td>2018-09-18</td>\n",
       "      <td>284.96</td>\n",
       "      <td>16494280.0000</td>\n",
       "      <td>296.69</td>\n",
       "      <td>302.6400</td>\n",
       "      <td>275.5000</td>\n",
       "      <td>2</td>\n",
       "    </tr>\n",
       "    <tr>\n",
       "      <th>16</th>\n",
       "      <td>2018-09-17</td>\n",
       "      <td>294.84</td>\n",
       "      <td>6866208.0000</td>\n",
       "      <td>290.04</td>\n",
       "      <td>300.8700</td>\n",
       "      <td>288.1300</td>\n",
       "      <td>1</td>\n",
       "    </tr>\n",
       "    <tr>\n",
       "      <th>17</th>\n",
       "      <td>2018-09-14</td>\n",
       "      <td>295.20</td>\n",
       "      <td>6757652.0000</td>\n",
       "      <td>288.76</td>\n",
       "      <td>297.3256</td>\n",
       "      <td>286.5200</td>\n",
       "      <td>5</td>\n",
       "    </tr>\n",
       "    <tr>\n",
       "      <th>18</th>\n",
       "      <td>2018-09-13</td>\n",
       "      <td>289.46</td>\n",
       "      <td>6333281.0000</td>\n",
       "      <td>288.02</td>\n",
       "      <td>295.0000</td>\n",
       "      <td>285.1800</td>\n",
       "      <td>4</td>\n",
       "    </tr>\n",
       "    <tr>\n",
       "      <th>19</th>\n",
       "      <td>2018-09-12</td>\n",
       "      <td>290.54</td>\n",
       "      <td>10002150.0000</td>\n",
       "      <td>281.44</td>\n",
       "      <td>292.5000</td>\n",
       "      <td>278.6463</td>\n",
       "      <td>3</td>\n",
       "    </tr>\n",
       "    <tr>\n",
       "      <th>20</th>\n",
       "      <td>2018-09-11</td>\n",
       "      <td>279.44</td>\n",
       "      <td>9161061.0000</td>\n",
       "      <td>279.47</td>\n",
       "      <td>282.0000</td>\n",
       "      <td>273.5500</td>\n",
       "      <td>2</td>\n",
       "    </tr>\n",
       "  </tbody>\n",
       "</table>\n",
       "</div>"
      ],
      "text/plain": [
       "         date   close         volume    open      high       low  day_of_week\n",
       "1  2018-10-08  250.56  13371180.0000  264.52  267.7599  249.0000            1\n",
       "2  2018-10-05  261.95  17900710.0000  274.65  274.8800  260.0000            5\n",
       "3  2018-10-04  281.83   9638885.0000  293.95  294.0000  277.6700            4\n",
       "4  2018-10-03  294.80   7982272.0000  303.33  304.6000  291.5700            3\n",
       "5  2018-10-02  301.02  11699690.0000  313.95  316.8400  299.1500            2\n",
       "6  2018-10-01  310.70  21714210.0000  305.77  311.4400  301.0500            1\n",
       "7  2018-09-28  264.77  33597290.0000  270.26  278.0000  260.5550            5\n",
       "8  2018-09-27  307.52   7337760.0000  312.90  314.9600  306.9100            4\n",
       "9  2018-09-26  309.58   7835863.0000  301.91  313.8900  301.1093            3\n",
       "10 2018-09-25  300.99   4472287.0000  300.00  304.6000  296.5000            2\n",
       "11 2018-09-24  299.68   4834384.0000  298.48  302.9993  293.5800            1\n",
       "12 2018-09-21  299.10   5038497.0000  297.70  300.5800  295.3700            5\n",
       "13 2018-09-20  298.33   7332477.0000  303.56  305.9800  293.3300            4\n",
       "14 2018-09-19  299.02   8264353.0000  280.51  300.0000  280.5000            3\n",
       "15 2018-09-18  284.96  16494280.0000  296.69  302.6400  275.5000            2\n",
       "16 2018-09-17  294.84   6866208.0000  290.04  300.8700  288.1300            1\n",
       "17 2018-09-14  295.20   6757652.0000  288.76  297.3256  286.5200            5\n",
       "18 2018-09-13  289.46   6333281.0000  288.02  295.0000  285.1800            4\n",
       "19 2018-09-12  290.54  10002150.0000  281.44  292.5000  278.6463            3\n",
       "20 2018-09-11  279.44   9161061.0000  279.47  282.0000  273.5500            2"
      ]
     },
     "execution_count": 12,
     "metadata": {},
     "output_type": "execute_result"
    }
   ],
   "source": [
    "Stock.head(20)"
   ]
  },
  {
   "cell_type": "markdown",
   "metadata": {},
   "source": [
    "## Saving dataframe to a csv file"
   ]
  },
  {
   "cell_type": "code",
   "execution_count": 13,
   "metadata": {},
   "outputs": [],
   "source": [
    "pd.DataFrame(Stock).to_csv('Stock_dayofweek_10_14_2018', index = False)"
   ]
  }
 ],
 "metadata": {
  "kernelspec": {
   "display_name": "Python 3",
   "language": "python",
   "name": "python3"
  },
  "language_info": {
   "codemirror_mode": {
    "name": "ipython",
    "version": 3
   },
   "file_extension": ".py",
   "mimetype": "text/x-python",
   "name": "python",
   "nbconvert_exporter": "python",
   "pygments_lexer": "ipython3",
   "version": "3.6.5"
  }
 },
 "nbformat": 4,
 "nbformat_minor": 2
}
